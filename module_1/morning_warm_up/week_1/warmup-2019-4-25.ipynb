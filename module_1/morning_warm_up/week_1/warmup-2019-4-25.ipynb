{
 "cells": [
  {
   "cell_type": "code",
   "execution_count": 1,
   "metadata": {},
   "outputs": [],
   "source": [
    "import pandas as pd"
   ]
  },
  {
   "cell_type": "code",
   "execution_count": 2,
   "metadata": {},
   "outputs": [
    {
     "name": "stderr",
     "output_type": "stream",
     "text": [
      "/Users/lhinkesjones/anaconda3/lib/python3.7/site-packages/ipykernel_launcher.py:1: FutureWarning: read_table is deprecated, use read_csv instead, passing sep='\\t'.\n",
      "  \"\"\"Entry point for launching an IPython kernel.\n"
     ]
    }
   ],
   "source": [
    "csv = pd.read_table(\"ftp://aftp.cmdl.noaa.gov/products/trends/co2/co2_mm_mlo.txt\", delim_whitespace=True, comment='#', header=None)"
   ]
  },
  {
   "cell_type": "code",
   "execution_count": 3,
   "metadata": {},
   "outputs": [],
   "source": [
    "df = csv.copy()"
   ]
  },
  {
   "cell_type": "code",
   "execution_count": 4,
   "metadata": {},
   "outputs": [
    {
     "data": {
      "text/plain": [
       "0    1958.000\n",
       "1       3.000\n",
       "2    1958.208\n",
       "3     315.710\n",
       "4     315.710\n",
       "5     314.620\n",
       "6      -1.000\n",
       "Name: 0, dtype: float64"
      ]
     },
     "execution_count": 4,
     "metadata": {},
     "output_type": "execute_result"
    }
   ],
   "source": [
    "df.iloc[0,:]"
   ]
  },
  {
   "cell_type": "code",
   "execution_count": 88,
   "metadata": {},
   "outputs": [
    {
     "data": {
      "text/html": [
       "<div>\n",
       "<style scoped>\n",
       "    .dataframe tbody tr th:only-of-type {\n",
       "        vertical-align: middle;\n",
       "    }\n",
       "\n",
       "    .dataframe tbody tr th {\n",
       "        vertical-align: top;\n",
       "    }\n",
       "\n",
       "    .dataframe thead th {\n",
       "        text-align: right;\n",
       "    }\n",
       "</style>\n",
       "<table border=\"1\" class=\"dataframe\">\n",
       "  <thead>\n",
       "    <tr style=\"text-align: right;\">\n",
       "      <th></th>\n",
       "      <th>year</th>\n",
       "      <th>month</th>\n",
       "      <th>CO2</th>\n",
       "      <th>average</th>\n",
       "      <th>interpolated</th>\n",
       "      <th>trend</th>\n",
       "      <th>#days</th>\n",
       "      <th>date</th>\n",
       "      <th>date2</th>\n",
       "      <th>barf</th>\n",
       "    </tr>\n",
       "  </thead>\n",
       "  <tbody>\n",
       "    <tr>\n",
       "      <th>0</th>\n",
       "      <td>1958</td>\n",
       "      <td>3</td>\n",
       "      <td>1958.208</td>\n",
       "      <td>315.71</td>\n",
       "      <td>315.71</td>\n",
       "      <td>314.62</td>\n",
       "      <td>-1</td>\n",
       "      <td>1958-03-01 00:00:00</td>\n",
       "      <td>1958-03-01</td>\n",
       "      <td>0      1958\\n1      1958\\n2      1958\\n3      ...</td>\n",
       "    </tr>\n",
       "    <tr>\n",
       "      <th>1</th>\n",
       "      <td>1958</td>\n",
       "      <td>4</td>\n",
       "      <td>1958.292</td>\n",
       "      <td>317.45</td>\n",
       "      <td>317.45</td>\n",
       "      <td>315.29</td>\n",
       "      <td>-1</td>\n",
       "      <td>1958-04-01 00:00:00</td>\n",
       "      <td>1958-04-01</td>\n",
       "      <td>0      1958\\n1      1958\\n2      1958\\n3      ...</td>\n",
       "    </tr>\n",
       "    <tr>\n",
       "      <th>2</th>\n",
       "      <td>1958</td>\n",
       "      <td>5</td>\n",
       "      <td>1958.375</td>\n",
       "      <td>317.50</td>\n",
       "      <td>317.50</td>\n",
       "      <td>314.71</td>\n",
       "      <td>-1</td>\n",
       "      <td>1958-05-01 00:00:00</td>\n",
       "      <td>1958-05-01</td>\n",
       "      <td>0      1958\\n1      1958\\n2      1958\\n3      ...</td>\n",
       "    </tr>\n",
       "    <tr>\n",
       "      <th>3</th>\n",
       "      <td>1958</td>\n",
       "      <td>6</td>\n",
       "      <td>1958.458</td>\n",
       "      <td>NaN</td>\n",
       "      <td>317.10</td>\n",
       "      <td>314.85</td>\n",
       "      <td>-1</td>\n",
       "      <td>1958-06-01 00:00:00</td>\n",
       "      <td>1958-06-01</td>\n",
       "      <td>0      1958\\n1      1958\\n2      1958\\n3      ...</td>\n",
       "    </tr>\n",
       "    <tr>\n",
       "      <th>4</th>\n",
       "      <td>1958</td>\n",
       "      <td>7</td>\n",
       "      <td>1958.542</td>\n",
       "      <td>315.86</td>\n",
       "      <td>315.86</td>\n",
       "      <td>314.98</td>\n",
       "      <td>-1</td>\n",
       "      <td>1958-07-01 00:00:00</td>\n",
       "      <td>1958-07-01</td>\n",
       "      <td>0      1958\\n1      1958\\n2      1958\\n3      ...</td>\n",
       "    </tr>\n",
       "  </tbody>\n",
       "</table>\n",
       "</div>"
      ],
      "text/plain": [
       "   year  month       CO2  average  interpolated   trend  #days  \\\n",
       "0  1958      3  1958.208   315.71        315.71  314.62     -1   \n",
       "1  1958      4  1958.292   317.45        317.45  315.29     -1   \n",
       "2  1958      5  1958.375   317.50        317.50  314.71     -1   \n",
       "3  1958      6  1958.458      NaN        317.10  314.85     -1   \n",
       "4  1958      7  1958.542   315.86        315.86  314.98     -1   \n",
       "\n",
       "                  date      date2  \\\n",
       "0  1958-03-01 00:00:00 1958-03-01   \n",
       "1  1958-04-01 00:00:00 1958-04-01   \n",
       "2  1958-05-01 00:00:00 1958-05-01   \n",
       "3  1958-06-01 00:00:00 1958-06-01   \n",
       "4  1958-07-01 00:00:00 1958-07-01   \n",
       "\n",
       "                                                barf  \n",
       "0  0      1958\\n1      1958\\n2      1958\\n3      ...  \n",
       "1  0      1958\\n1      1958\\n2      1958\\n3      ...  \n",
       "2  0      1958\\n1      1958\\n2      1958\\n3      ...  \n",
       "3  0      1958\\n1      1958\\n2      1958\\n3      ...  \n",
       "4  0      1958\\n1      1958\\n2      1958\\n3      ...  "
      ]
     },
     "execution_count": 88,
     "metadata": {},
     "output_type": "execute_result"
    }
   ],
   "source": [
    "import numpy as np\n",
    "def chkk(x):\n",
    "    if x == -99.99:\n",
    "        return np.nan\n",
    "df.iloc[3].map(chkk)\n",
    "df.head()"
   ]
  },
  {
   "cell_type": "code",
   "execution_count": 6,
   "metadata": {},
   "outputs": [
    {
     "data": {
      "text/html": [
       "<div>\n",
       "<style scoped>\n",
       "    .dataframe tbody tr th:only-of-type {\n",
       "        vertical-align: middle;\n",
       "    }\n",
       "\n",
       "    .dataframe tbody tr th {\n",
       "        vertical-align: top;\n",
       "    }\n",
       "\n",
       "    .dataframe thead th {\n",
       "        text-align: right;\n",
       "    }\n",
       "</style>\n",
       "<table border=\"1\" class=\"dataframe\">\n",
       "  <thead>\n",
       "    <tr style=\"text-align: right;\">\n",
       "      <th></th>\n",
       "      <th>0</th>\n",
       "      <th>1</th>\n",
       "      <th>2</th>\n",
       "      <th>3</th>\n",
       "      <th>4</th>\n",
       "      <th>5</th>\n",
       "      <th>6</th>\n",
       "    </tr>\n",
       "  </thead>\n",
       "  <tbody>\n",
       "    <tr>\n",
       "      <th>0</th>\n",
       "      <td>1958</td>\n",
       "      <td>3</td>\n",
       "      <td>1958.208</td>\n",
       "      <td>315.71</td>\n",
       "      <td>315.71</td>\n",
       "      <td>314.62</td>\n",
       "      <td>-1</td>\n",
       "    </tr>\n",
       "    <tr>\n",
       "      <th>1</th>\n",
       "      <td>1958</td>\n",
       "      <td>4</td>\n",
       "      <td>1958.292</td>\n",
       "      <td>317.45</td>\n",
       "      <td>317.45</td>\n",
       "      <td>315.29</td>\n",
       "      <td>-1</td>\n",
       "    </tr>\n",
       "    <tr>\n",
       "      <th>2</th>\n",
       "      <td>1958</td>\n",
       "      <td>5</td>\n",
       "      <td>1958.375</td>\n",
       "      <td>317.50</td>\n",
       "      <td>317.50</td>\n",
       "      <td>314.71</td>\n",
       "      <td>-1</td>\n",
       "    </tr>\n",
       "    <tr>\n",
       "      <th>3</th>\n",
       "      <td>1958</td>\n",
       "      <td>6</td>\n",
       "      <td>1958.458</td>\n",
       "      <td>NaN</td>\n",
       "      <td>317.10</td>\n",
       "      <td>314.85</td>\n",
       "      <td>-1</td>\n",
       "    </tr>\n",
       "    <tr>\n",
       "      <th>4</th>\n",
       "      <td>1958</td>\n",
       "      <td>7</td>\n",
       "      <td>1958.542</td>\n",
       "      <td>315.86</td>\n",
       "      <td>315.86</td>\n",
       "      <td>314.98</td>\n",
       "      <td>-1</td>\n",
       "    </tr>\n",
       "  </tbody>\n",
       "</table>\n",
       "</div>"
      ],
      "text/plain": [
       "      0  1         2       3       4       5  6\n",
       "0  1958  3  1958.208  315.71  315.71  314.62 -1\n",
       "1  1958  4  1958.292  317.45  317.45  315.29 -1\n",
       "2  1958  5  1958.375  317.50  317.50  314.71 -1\n",
       "3  1958  6  1958.458     NaN  317.10  314.85 -1\n",
       "4  1958  7  1958.542  315.86  315.86  314.98 -1"
      ]
     },
     "execution_count": 6,
     "metadata": {},
     "output_type": "execute_result"
    }
   ],
   "source": [
    "df.head()"
   ]
  },
  {
   "cell_type": "code",
   "execution_count": 7,
   "metadata": {},
   "outputs": [],
   "source": [
    "index = [\"year\", \"month\", \"CO2\", \"average\", \"interpolated\",\"trend\", \"#days\"]\n",
    "df.columns = index"
   ]
  },
  {
   "cell_type": "code",
   "execution_count": 8,
   "metadata": {},
   "outputs": [
    {
     "data": {
      "text/html": [
       "<div>\n",
       "<style scoped>\n",
       "    .dataframe tbody tr th:only-of-type {\n",
       "        vertical-align: middle;\n",
       "    }\n",
       "\n",
       "    .dataframe tbody tr th {\n",
       "        vertical-align: top;\n",
       "    }\n",
       "\n",
       "    .dataframe thead th {\n",
       "        text-align: right;\n",
       "    }\n",
       "</style>\n",
       "<table border=\"1\" class=\"dataframe\">\n",
       "  <thead>\n",
       "    <tr style=\"text-align: right;\">\n",
       "      <th></th>\n",
       "      <th>year</th>\n",
       "      <th>month</th>\n",
       "      <th>CO2</th>\n",
       "      <th>average</th>\n",
       "      <th>interpolated</th>\n",
       "      <th>trend</th>\n",
       "      <th>#days</th>\n",
       "    </tr>\n",
       "  </thead>\n",
       "  <tbody>\n",
       "    <tr>\n",
       "      <th>0</th>\n",
       "      <td>1958</td>\n",
       "      <td>3</td>\n",
       "      <td>1958.208</td>\n",
       "      <td>315.71</td>\n",
       "      <td>315.71</td>\n",
       "      <td>314.62</td>\n",
       "      <td>-1</td>\n",
       "    </tr>\n",
       "    <tr>\n",
       "      <th>1</th>\n",
       "      <td>1958</td>\n",
       "      <td>4</td>\n",
       "      <td>1958.292</td>\n",
       "      <td>317.45</td>\n",
       "      <td>317.45</td>\n",
       "      <td>315.29</td>\n",
       "      <td>-1</td>\n",
       "    </tr>\n",
       "    <tr>\n",
       "      <th>2</th>\n",
       "      <td>1958</td>\n",
       "      <td>5</td>\n",
       "      <td>1958.375</td>\n",
       "      <td>317.50</td>\n",
       "      <td>317.50</td>\n",
       "      <td>314.71</td>\n",
       "      <td>-1</td>\n",
       "    </tr>\n",
       "    <tr>\n",
       "      <th>3</th>\n",
       "      <td>1958</td>\n",
       "      <td>6</td>\n",
       "      <td>1958.458</td>\n",
       "      <td>NaN</td>\n",
       "      <td>317.10</td>\n",
       "      <td>314.85</td>\n",
       "      <td>-1</td>\n",
       "    </tr>\n",
       "    <tr>\n",
       "      <th>4</th>\n",
       "      <td>1958</td>\n",
       "      <td>7</td>\n",
       "      <td>1958.542</td>\n",
       "      <td>315.86</td>\n",
       "      <td>315.86</td>\n",
       "      <td>314.98</td>\n",
       "      <td>-1</td>\n",
       "    </tr>\n",
       "  </tbody>\n",
       "</table>\n",
       "</div>"
      ],
      "text/plain": [
       "   year  month       CO2  average  interpolated   trend  #days\n",
       "0  1958      3  1958.208   315.71        315.71  314.62     -1\n",
       "1  1958      4  1958.292   317.45        317.45  315.29     -1\n",
       "2  1958      5  1958.375   317.50        317.50  314.71     -1\n",
       "3  1958      6  1958.458      NaN        317.10  314.85     -1\n",
       "4  1958      7  1958.542   315.86        315.86  314.98     -1"
      ]
     },
     "execution_count": 8,
     "metadata": {},
     "output_type": "execute_result"
    }
   ],
   "source": [
    "df.head()"
   ]
  },
  {
   "cell_type": "code",
   "execution_count": 18,
   "metadata": {},
   "outputs": [],
   "source": [
    "df[\"Day\"] = 15"
   ]
  },
  {
   "cell_type": "code",
   "execution_count": 10,
   "metadata": {},
   "outputs": [],
   "source": [
    "df['date'] = 1"
   ]
  },
  {
   "cell_type": "code",
   "execution_count": 59,
   "metadata": {},
   "outputs": [
    {
     "data": {
      "text/plain": [
       "0      1958\n",
       "1      1958\n",
       "2      1958\n",
       "3      1958\n",
       "4      1958\n",
       "5      1958\n",
       "6      1958\n",
       "7      1958\n",
       "8      1958\n",
       "9      1958\n",
       "10     1959\n",
       "11     1959\n",
       "12     1959\n",
       "13     1959\n",
       "14     1959\n",
       "15     1959\n",
       "16     1959\n",
       "17     1959\n",
       "18     1959\n",
       "19     1959\n",
       "20     1959\n",
       "21     1959\n",
       "22     1960\n",
       "23     1960\n",
       "24     1960\n",
       "25     1960\n",
       "26     1960\n",
       "27     1960\n",
       "28     1960\n",
       "29     1960\n",
       "       ... \n",
       "703    2016\n",
       "704    2016\n",
       "705    2016\n",
       "706    2017\n",
       "707    2017\n",
       "708    2017\n",
       "709    2017\n",
       "710    2017\n",
       "711    2017\n",
       "712    2017\n",
       "713    2017\n",
       "714    2017\n",
       "715    2017\n",
       "716    2017\n",
       "717    2017\n",
       "718    2018\n",
       "719    2018\n",
       "720    2018\n",
       "721    2018\n",
       "722    2018\n",
       "723    2018\n",
       "724    2018\n",
       "725    2018\n",
       "726    2018\n",
       "727    2018\n",
       "728    2018\n",
       "729    2018\n",
       "730    2019\n",
       "731    2019\n",
       "732    2019\n",
       "Name: year, Length: 733, dtype: int64"
      ]
     },
     "execution_count": 59,
     "metadata": {},
     "output_type": "execute_result"
    }
   ],
   "source": [
    "df.year"
   ]
  },
  {
   "cell_type": "code",
   "execution_count": 64,
   "metadata": {},
   "outputs": [],
   "source": [
    "year_month = df.month.astype(str)\n",
    "year_temp = df.year.astype(str)\n",
    "\n",
    "\n",
    "\n",
    "df[\"date2\"] = pd.to_datetime(year_temp + \"-\" + year_month + '-01', format='%Y-%m-%d')\n",
    "\n",
    "#df[\"date2\"] = df.year + df.month\n",
    "\n",
    "#for i, row in df.iterrows():\n",
    "#    df.set_value(i,\"date\", pd.to_datetime(str(int(row.year)) + '-' + str(int(row.month)).zfill(2) + '-01', format='%Y-%m-%d'))"
   ]
  },
  {
   "cell_type": "code",
   "execution_count": 71,
   "metadata": {},
   "outputs": [],
   "source": [
    "df.barf2 = 12"
   ]
  },
  {
   "cell_type": "code",
   "execution_count": 77,
   "metadata": {},
   "outputs": [
    {
     "data": {
      "text/plain": [
       "12"
      ]
     },
     "execution_count": 77,
     "metadata": {},
     "output_type": "execute_result"
    }
   ],
   "source": [
    "df.barf2"
   ]
  },
  {
   "cell_type": "code",
   "execution_count": 82,
   "metadata": {},
   "outputs": [
    {
     "data": {
      "text/plain": [
       "0      23498.496\n",
       "1      23499.504\n",
       "2      23500.500\n",
       "3      23501.496\n",
       "4      23502.504\n",
       "5      23503.500\n",
       "6      23504.496\n",
       "7      23505.504\n",
       "8      23506.500\n",
       "9      23507.496\n",
       "10     23508.504\n",
       "11     23509.500\n",
       "12     23510.496\n",
       "13     23511.504\n",
       "14     23512.500\n",
       "15     23513.496\n",
       "16     23514.504\n",
       "17     23515.500\n",
       "18     23516.496\n",
       "19     23517.504\n",
       "20     23518.500\n",
       "21     23519.496\n",
       "22     23520.504\n",
       "23     23521.500\n",
       "24     23522.496\n",
       "25     23523.504\n",
       "26     23524.500\n",
       "27     23525.496\n",
       "28     23526.504\n",
       "29     23527.500\n",
       "         ...    \n",
       "703    24201.504\n",
       "704    24202.500\n",
       "705    24203.496\n",
       "706    24204.504\n",
       "707    24205.500\n",
       "708    24206.496\n",
       "709    24207.504\n",
       "710    24208.500\n",
       "711    24209.496\n",
       "712    24210.504\n",
       "713    24211.500\n",
       "714    24212.496\n",
       "715    24213.504\n",
       "716    24214.500\n",
       "717    24215.496\n",
       "718    24216.504\n",
       "719    24217.500\n",
       "720    24218.496\n",
       "721    24219.504\n",
       "722    24220.500\n",
       "723    24221.496\n",
       "724    24222.504\n",
       "725    24223.500\n",
       "726    24224.496\n",
       "727    24225.504\n",
       "728    24226.500\n",
       "729    24227.496\n",
       "730    24228.504\n",
       "731    24229.500\n",
       "732    24230.496\n",
       "Name: CO2, Length: 733, dtype: float64"
      ]
     },
     "execution_count": 82,
     "metadata": {},
     "output_type": "execute_result"
    }
   ],
   "source": [
    "df.barf2 * df.CO2"
   ]
  },
  {
   "cell_type": "code",
   "execution_count": 79,
   "metadata": {},
   "outputs": [
    {
     "ename": "SyntaxError",
     "evalue": "invalid syntax (<ipython-input-79-33ad0db3f6d3>, line 1)",
     "output_type": "error",
     "traceback": [
      "\u001b[0;36m  File \u001b[0;32m\"<ipython-input-79-33ad0db3f6d3>\"\u001b[0;36m, line \u001b[0;32m1\u001b[0m\n\u001b[0;31m    df[\"barf\"].ipynb_checkpoints/\u001b[0m\n\u001b[0m                                 ^\u001b[0m\n\u001b[0;31mSyntaxError\u001b[0m\u001b[0;31m:\u001b[0m invalid syntax\n"
     ]
    }
   ],
   "source": [
    "df[\"barf\"].ipynb_checkpoints/\n"
   ]
  },
  {
   "cell_type": "code",
   "execution_count": 22,
   "metadata": {},
   "outputs": [
    {
     "data": {
      "text/html": [
       "<div>\n",
       "<style scoped>\n",
       "    .dataframe tbody tr th:only-of-type {\n",
       "        vertical-align: middle;\n",
       "    }\n",
       "\n",
       "    .dataframe tbody tr th {\n",
       "        vertical-align: top;\n",
       "    }\n",
       "\n",
       "    .dataframe thead th {\n",
       "        text-align: right;\n",
       "    }\n",
       "</style>\n",
       "<table border=\"1\" class=\"dataframe\">\n",
       "  <thead>\n",
       "    <tr style=\"text-align: right;\">\n",
       "      <th></th>\n",
       "      <th>year</th>\n",
       "      <th>month</th>\n",
       "      <th>CO2</th>\n",
       "      <th>average</th>\n",
       "      <th>interpolated</th>\n",
       "      <th>trend</th>\n",
       "      <th>#days</th>\n",
       "      <th>date</th>\n",
       "    </tr>\n",
       "  </thead>\n",
       "  <tbody>\n",
       "    <tr>\n",
       "      <th>0</th>\n",
       "      <td>1958</td>\n",
       "      <td>3</td>\n",
       "      <td>1958.208</td>\n",
       "      <td>315.71</td>\n",
       "      <td>315.71</td>\n",
       "      <td>314.62</td>\n",
       "      <td>-1</td>\n",
       "      <td>1958-03-01 00:00:00</td>\n",
       "    </tr>\n",
       "    <tr>\n",
       "      <th>1</th>\n",
       "      <td>1958</td>\n",
       "      <td>4</td>\n",
       "      <td>1958.292</td>\n",
       "      <td>317.45</td>\n",
       "      <td>317.45</td>\n",
       "      <td>315.29</td>\n",
       "      <td>-1</td>\n",
       "      <td>1958-04-01 00:00:00</td>\n",
       "    </tr>\n",
       "    <tr>\n",
       "      <th>2</th>\n",
       "      <td>1958</td>\n",
       "      <td>5</td>\n",
       "      <td>1958.375</td>\n",
       "      <td>317.50</td>\n",
       "      <td>317.50</td>\n",
       "      <td>314.71</td>\n",
       "      <td>-1</td>\n",
       "      <td>1958-05-01 00:00:00</td>\n",
       "    </tr>\n",
       "    <tr>\n",
       "      <th>3</th>\n",
       "      <td>1958</td>\n",
       "      <td>6</td>\n",
       "      <td>1958.458</td>\n",
       "      <td>NaN</td>\n",
       "      <td>317.10</td>\n",
       "      <td>314.85</td>\n",
       "      <td>-1</td>\n",
       "      <td>1958-06-01 00:00:00</td>\n",
       "    </tr>\n",
       "    <tr>\n",
       "      <th>4</th>\n",
       "      <td>1958</td>\n",
       "      <td>7</td>\n",
       "      <td>1958.542</td>\n",
       "      <td>315.86</td>\n",
       "      <td>315.86</td>\n",
       "      <td>314.98</td>\n",
       "      <td>-1</td>\n",
       "      <td>1958-07-01 00:00:00</td>\n",
       "    </tr>\n",
       "  </tbody>\n",
       "</table>\n",
       "</div>"
      ],
      "text/plain": [
       "   year  month       CO2  average  interpolated   trend  #days  \\\n",
       "0  1958      3  1958.208   315.71        315.71  314.62     -1   \n",
       "1  1958      4  1958.292   317.45        317.45  315.29     -1   \n",
       "2  1958      5  1958.375   317.50        317.50  314.71     -1   \n",
       "3  1958      6  1958.458      NaN        317.10  314.85     -1   \n",
       "4  1958      7  1958.542   315.86        315.86  314.98     -1   \n",
       "\n",
       "                  date  \n",
       "0  1958-03-01 00:00:00  \n",
       "1  1958-04-01 00:00:00  \n",
       "2  1958-05-01 00:00:00  \n",
       "3  1958-06-01 00:00:00  \n",
       "4  1958-07-01 00:00:00  "
      ]
     },
     "execution_count": 22,
     "metadata": {},
     "output_type": "execute_result"
    }
   ],
   "source": [
    "df.drop(columns=[\"Day\"], inplace=True)\n",
    "df.head()"
   ]
  },
  {
   "cell_type": "code",
   "execution_count": 23,
   "metadata": {},
   "outputs": [
    {
     "data": {
      "text/plain": [
       "year\n",
       "1958    1958.5835\n",
       "1959    1959.5000\n",
       "1960    1960.5000\n",
       "1961    1961.5000\n",
       "1962    1962.5000\n",
       "1963    1963.5000\n",
       "1964    1964.5000\n",
       "1965    1965.5000\n",
       "1966    1966.5000\n",
       "1967    1967.5000\n",
       "1968    1968.5000\n",
       "1969    1969.5000\n",
       "1970    1970.5000\n",
       "1971    1971.5000\n",
       "1972    1972.5000\n",
       "1973    1973.5000\n",
       "1974    1974.5000\n",
       "1975    1975.5000\n",
       "1976    1976.5000\n",
       "1977    1977.5000\n",
       "1978    1978.5000\n",
       "1979    1979.5000\n",
       "1980    1980.5000\n",
       "1981    1981.5000\n",
       "1982    1982.5000\n",
       "1983    1983.5000\n",
       "1984    1984.5000\n",
       "1985    1985.5000\n",
       "1986    1986.5000\n",
       "1987    1987.5000\n",
       "          ...    \n",
       "1990    1990.5000\n",
       "1991    1991.5000\n",
       "1992    1992.5000\n",
       "1993    1993.5000\n",
       "1994    1994.5000\n",
       "1995    1995.5000\n",
       "1996    1996.5000\n",
       "1997    1997.5000\n",
       "1998    1998.5000\n",
       "1999    1999.5000\n",
       "2000    2000.5000\n",
       "2001    2001.5000\n",
       "2002    2002.5000\n",
       "2003    2003.5000\n",
       "2004    2004.5000\n",
       "2005    2005.5000\n",
       "2006    2006.5000\n",
       "2007    2007.5000\n",
       "2008    2008.5000\n",
       "2009    2009.5000\n",
       "2010    2010.5000\n",
       "2011    2011.5000\n",
       "2012    2012.5000\n",
       "2013    2013.5000\n",
       "2014    2014.5000\n",
       "2015    2015.5000\n",
       "2016    2016.5000\n",
       "2017    2017.5000\n",
       "2018    2018.5000\n",
       "2019    2019.1250\n",
       "Name: CO2, Length: 62, dtype: float64"
      ]
     },
     "execution_count": 23,
     "metadata": {},
     "output_type": "execute_result"
    }
   ],
   "source": [
    "df.groupby(\"year\").median().CO2"
   ]
  },
  {
   "cell_type": "code",
   "execution_count": 26,
   "metadata": {},
   "outputs": [],
   "source": [
    "import numpy as np\n",
    "co2 = np.array(df[\"CO2\"])\n",
    "average = np.array(df[\"average\"])\n",
    "interpolated = np.array(df[\"interpolated\"])"
   ]
  },
  {
   "cell_type": "code",
   "execution_count": 30,
   "metadata": {},
   "outputs": [
    {
     "data": {
      "text/plain": [
       "array([1958.208, 1958.292, 1958.375, 1958.458, 1958.542, 1958.625,\n",
       "       1958.708, 1958.792, 1958.875, 1958.958])"
      ]
     },
     "execution_count": 30,
     "metadata": {},
     "output_type": "execute_result"
    }
   ],
   "source": [
    "co2[0:10]"
   ]
  },
  {
   "cell_type": "code",
   "execution_count": 32,
   "metadata": {},
   "outputs": [],
   "source": [
    "import numpy as np\n",
    "df2 = df.copy()\n",
    "for i,row in df2.iterrows():\n",
    "    row[3] = np.where(row[3] == -99.99, np.nan, row[3])"
   ]
  },
  {
   "cell_type": "code",
   "execution_count": 33,
   "metadata": {},
   "outputs": [],
   "source": [
    "import matplotlib.pyplot as plt"
   ]
  },
  {
   "cell_type": "code",
   "execution_count": 44,
   "metadata": {},
   "outputs": [],
   "source": [
    "years = list(df['year'])\n",
    "months = list(df['month'])\n",
    "year_months = [str(int(years[i])) + \"-\" + str(int(months[i])) for i,v in enumerate(years)]"
   ]
  },
  {
   "cell_type": "code",
   "execution_count": 49,
   "metadata": {},
   "outputs": [
    {
     "data": {
      "text/plain": [
       "['1958-3',\n",
       " '1958-4',\n",
       " '1958-5',\n",
       " '1958-6',\n",
       " '1958-7',\n",
       " '1958-8',\n",
       " '1958-9',\n",
       " '1958-10',\n",
       " '1958-11',\n",
       " '1958-12']"
      ]
     },
     "execution_count": 49,
     "metadata": {},
     "output_type": "execute_result"
    }
   ],
   "source": [
    "year_months[0:10]"
   ]
  },
  {
   "cell_type": "code",
   "execution_count": 47,
   "metadata": {},
   "outputs": [
    {
     "data": {
      "text/plain": [
       "[]"
      ]
     },
     "execution_count": 47,
     "metadata": {},
     "output_type": "execute_result"
    },
    {
     "data": {
      "image/png": "[encoded data removed]",
      "text/plain": [
       "<Figure size 432x288 with 1 Axes>"
      ]
     },
     "metadata": {
      "needs_background": "light"
     },
     "output_type": "display_data"
    }
   ],
   "source": [
    "%matplotlib inline\n",
    "plt.plot(year_months, df[\"interpolated\"], label=\"Interpolated\")\n",
    "plt.plot(year_months, df[\"trend\"], label=\"Trend\")\n",
    "plt.plot(year_months, df[\"average\"], label=\"Average\")\n",
    "plt.legend()\n",
    "\n",
    "plt.plot()"
   ]
  },
  {
   "cell_type": "code",
   "execution_count": 48,
   "metadata": {},
   "outputs": [],
   "source": [
    "plt.show()"
   ]
  },
  {
   "cell_type": "code",
   "execution_count": null,
   "metadata": {},
   "outputs": [],
   "source": []
  }
 ],
 "metadata": {
  "kernelspec": {
   "display_name": "Python 3",
   "language": "python",
   "name": "python3"
  },
  "language_info": {
   "codemirror_mode": {
    "name": "ipython",
    "version": 3
   },
   "file_extension": ".py",
   "mimetype": "text/x-python",
   "name": "python",
   "nbconvert_exporter": "python",
   "pygments_lexer": "ipython3",
   "version": "3.7.3"
  }
 },
 "nbformat": 4,
 "nbformat_minor": 2
}
