{
 "cells": [
  {
   "cell_type": "markdown",
   "metadata": {},
   "source": [
    "# More Python Essentials!\n",
    "\n",
    "## Methods\n",
    "\n",
    "A method is a function that belongs to an object. And in Python, most things are objects! Naturally, the methods that belong to a particular object can vary depending on the object's datatype.\n",
    "\n",
    "### String Methods\n",
    "\n",
    "Here are some useful methods for strings:\n",
    "\n",
    "- ```.upper()```: converts a string to uppercase\n",
    "- ```.lower()```: converts a string to lowercase\n",
    "- ```.capitalize()```: makes the first letter of a string a capital"
   ]
  },
  {
   "cell_type": "code",
   "execution_count": 5,
   "metadata": {},
   "outputs": [
    {
     "data": {
      "text/plain": [
       "'Greg Damico'"
      ]
     },
     "execution_count": 5,
     "metadata": {},
     "output_type": "execute_result"
    }
   ],
   "source": [
    "first_name = 'greg'\n",
    "last_name = 'damico'\n",
    "\n",
    "# Capitalize my name without using .capitalize()!\n",
    "first_name.title()+' '+last_name.title()\n",
    "first_name.capitalize() + ' ' + last_name.capitalize()"
   ]
  },
  {
   "cell_type": "code",
   "execution_count": 8,
   "metadata": {},
   "outputs": [
    {
     "data": {
      "text/plain": [
       "'Greg Damico'"
      ]
     },
     "execution_count": 8,
     "metadata": {},
     "output_type": "execute_result"
    }
   ],
   "source": [
    "first_name[0].upper() + first_name[1:].lower() + ' ' + last_name[0].upper() + last_name[1:].lower()"
   ]
  },
  {
   "cell_type": "markdown",
   "metadata": {},
   "source": [
    "### List Methods\n",
    "\n",
    "Here are some useful methods for lists:\n",
    "\n",
    "- ```.append()```: adds an element to the end of a list\n",
    "- ```.pop()```: removes an element from the list\n",
    "- ```.extend()```: adds multiple elements to the end of a list"
   ]
  },
  {
   "cell_type": "code",
   "execution_count": 9,
   "metadata": {},
   "outputs": [],
   "source": [
    "list_1 = [1, 2, 4]\n",
    "extra = 8\n",
    "list_2 = [8, 16]\n",
    "\n",
    "\n",
    "list_1.extend(list_2)\n",
    "\n",
    "# Note that this alters list_1!\n"
   ]
  },
  {
   "cell_type": "code",
   "execution_count": 10,
   "metadata": {},
   "outputs": [
    {
     "data": {
      "text/plain": [
       "[1, 2, 4, 8, 16]"
      ]
     },
     "execution_count": 10,
     "metadata": {},
     "output_type": "execute_result"
    }
   ],
   "source": [
    "list_1"
   ]
  },
  {
   "cell_type": "code",
   "execution_count": 2,
   "metadata": {},
   "outputs": [],
   "source": [
    "# Let's write a loop that will build a list of the characters of the\n",
    "# string: 'supercalifragilisticexpialidocious'\n",
    "\n",
    "word = 'supercalifragilisticexpialidocious'\n",
    "char_list = []\n",
    "for greg in word:\n",
    "    char_list.append(greg)\n",
    "\n",
    "# char_list"
   ]
  },
  {
   "cell_type": "code",
   "execution_count": 6,
   "metadata": {},
   "outputs": [
    {
     "name": "stdout",
     "output_type": "stream",
     "text": [
      "['shello', 'uhello', 'phello', 'ehello', 'rhello', 'chello', 'ahello', 'lhello', 'ihello', 'fhello', 'rhello', 'ahello', 'ghello', 'ihello', 'lhello', 'ihello', 'shello', 'thello', 'ihello', 'chello', 'ehello', 'xhello', 'phello', 'ihello', 'ahello', 'lhello', 'ihello', 'dhello', 'ohello', 'chello', 'ihello', 'ohello', 'uhello', 'shello']\n"
     ]
    }
   ],
   "source": [
    "print([x + 'hello' for x in word])"
   ]
  },
  {
   "cell_type": "code",
   "execution_count": 8,
   "metadata": {},
   "outputs": [],
   "source": [
    "list_1.pop()\n",
    "\n",
    "# What does this return?\n",
    "# What does list_1 look like now?"
   ]
  },
  {
   "cell_type": "markdown",
   "metadata": {},
   "source": [
    "### List Comprehension"
   ]
  },
  {
   "cell_type": "markdown",
   "metadata": {},
   "source": [
    "List comprehension is a handy way of generating a new list from existing lists.\n",
    "\n",
    "Suppose I start with a simple list."
   ]
  },
  {
   "cell_type": "code",
   "execution_count": 16,
   "metadata": {},
   "outputs": [],
   "source": [
    "primes = [2, 3, 5, 7, 11, 13, 17, 19]"
   ]
  },
  {
   "cell_type": "markdown",
   "metadata": {},
   "source": [
    "What I want now to do is to build a new list that comprises doubles of primes. I can do this with list comprehension!"
   ]
  },
  {
   "cell_type": "markdown",
   "metadata": {},
   "source": [
    "The syntax is: ```[ f(x) for x in [original list] ]```"
   ]
  },
  {
   "cell_type": "code",
   "execution_count": 21,
   "metadata": {},
   "outputs": [],
   "source": [
    "prime_doubles = [x*2 for x in primes]\n",
    "prime_triples = [x*3 for x in primes]"
   ]
  },
  {
   "cell_type": "markdown",
   "metadata": {},
   "source": [
    "### Dictionary Methods\n",
    "\n",
    "Here are some useful methods for dictionaries:\n",
    "\n",
    "- ```.keys()```: returns an array of the dictionary's keys\n",
    "- ```.values()```: returns an array of the dictionary's values\n",
    "- ```.items()```: returns an array of key-value tuples"
   ]
  },
  {
   "cell_type": "code",
   "execution_count": 9,
   "metadata": {},
   "outputs": [],
   "source": [
    "zoo = {1: 'giraffe', 2: 'elephant', 3: 'monkey'}"
   ]
  },
  {
   "cell_type": "code",
   "execution_count": 15,
   "metadata": {},
   "outputs": [
    {
     "data": {
      "text/plain": [
       "range(0, 8)"
      ]
     },
     "execution_count": 15,
     "metadata": {},
     "output_type": "execute_result"
    }
   ],
   "source": [
    "# Use the .keys() method to print the keys of this dictionary!\n",
    "\n",
    "# Use the .values() method to print the values of this dictionary!\n",
    "\n",
    "\n",
    "#for item in zoo.items():\n",
    " #   print(item[0:1])\n",
    "    \n",
    "range(8)"
   ]
  },
  {
   "cell_type": "markdown",
   "metadata": {},
   "source": [
    "## Zipping"
   ]
  },
  {
   "cell_type": "markdown",
   "metadata": {},
   "source": [
    "Zipping is a way of merging two arrays into one. The result can be cast as a list or as a dict."
   ]
  },
  {
   "cell_type": "code",
   "execution_count": 22,
   "metadata": {},
   "outputs": [
    {
     "data": {
      "text/plain": [
       "<zip at 0x10f27b088>"
      ]
     },
     "execution_count": 22,
     "metadata": {},
     "output_type": "execute_result"
    }
   ],
   "source": [
    "zip(primes, prime_doubles, prime_triples)"
   ]
  },
  {
   "cell_type": "code",
   "execution_count": 24,
   "metadata": {},
   "outputs": [
    {
     "data": {
      "text/plain": [
       "[(2, 4, 6),\n",
       " (3, 6, 9),\n",
       " (5, 10, 15),\n",
       " (7, 14, 21),\n",
       " (11, 22, 33),\n",
       " (13, 26, 39),\n",
       " (17, 34, 51),\n",
       " (19, 38, 57)]"
      ]
     },
     "execution_count": 24,
     "metadata": {},
     "output_type": "execute_result"
    }
   ],
   "source": [
    "list(zip(primes, prime_doubles, prime_triples))"
   ]
  },
  {
   "cell_type": "code",
   "execution_count": 27,
   "metadata": {},
   "outputs": [
    {
     "data": {
      "text/plain": [
       "[(2, [4, 6, 10, 14, 22, 26, 34, 38]),\n",
       " (3, [6, 9, 15, 21, 33, 39, 51, 57]),\n",
       " (5, [2, 3, 5, 7, 11, 13, 17, 19])]"
      ]
     },
     "execution_count": 27,
     "metadata": {},
     "output_type": "execute_result"
    }
   ],
   "source": [
    "list(zip(primes, (prime_doubles, prime_triples, primes)))"
   ]
  },
  {
   "cell_type": "markdown",
   "metadata": {},
   "source": [
    "## Built-In Functions\n",
    "\n",
    "Many useful functions are already built into Python:\n",
    "\n",
    "- ```print()```: print the given string or variable's value\n",
    "- ```type()```: returns the datatype of the argument\n",
    "- ```len()```: returns the length of an array\n",
    "- ```sum()```: returns the sum of the array's values\n",
    "- ```min()```: returns the smallest member of an array\n",
    "- ```max()```: returns the largest member of an array"
   ]
  },
  {
   "cell_type": "code",
   "execution_count": 33,
   "metadata": {},
   "outputs": [
    {
     "data": {
      "text/plain": [
       "'natasha'"
      ]
     },
     "execution_count": 33,
     "metadata": {},
     "output_type": "execute_result"
    }
   ],
   "source": [
    "# print()\n",
    "# type()\n",
    "# len()\n",
    "# sum()\n",
    "# min()\n",
    "max(['natasha', 'Zander'])"
   ]
  },
  {
   "cell_type": "markdown",
   "metadata": {},
   "source": [
    "## While Loops\n",
    "\n",
    "We have already seen 'for'-loops, where you use a loop and count the iterations by the some pre-specified number. But sometimes we don't know how many times we'll need to iterate!\n",
    "\n",
    "Suppose I want to build a program that will take in a whole number and then tell me how many times 2 divides that number evenly. So e.g. 2 divides 4 twice but 10 only once (and 1536 nine times).\n",
    "\n",
    "A good first start is to take the input number and start dividing by 2. But when do I stop? Answer: When I reach an odd number!"
   ]
  },
  {
   "cell_type": "code",
   "execution_count": 39,
   "metadata": {},
   "outputs": [
    {
     "data": {
      "text/plain": [
       "9"
      ]
     },
     "execution_count": 39,
     "metadata": {},
     "output_type": "execute_result"
    }
   ],
   "source": [
    "# Let's code it!\n",
    "\n",
    "num = 1536\n",
    "\n",
    "ctr = 0\n",
    "while num == int(num):\n",
    "    ctr += 1\n",
    "    num /= 2\n",
    "ctr - 1"
   ]
  },
  {
   "cell_type": "markdown",
   "metadata": {},
   "source": [
    "## Nested Loops\n",
    "\n",
    "We can put loops inside of other loops! These come in handy especially when we have arrays inside of other arrays."
   ]
  },
  {
   "cell_type": "code",
   "execution_count": 41,
   "metadata": {},
   "outputs": [],
   "source": [
    "phone_nos = [{'greg': {'home': 1234567, 'work': 7654321}},\n",
    "          {'miles': {'home': 9876543, 'work': 1010001}},\n",
    "            {'cristian': {'home': 1111111, 'work': 2222222}},\n",
    "            {'kena': {'home': 3333333, 'work': 4444444}}]"
   ]
  },
  {
   "cell_type": "code",
   "execution_count": 53,
   "metadata": {},
   "outputs": [
    {
     "data": {
      "text/plain": [
       "[[1234567], [9876543], [1111111], [3333333]]"
      ]
     },
     "execution_count": 53,
     "metadata": {},
     "output_type": "execute_result"
    }
   ],
   "source": [
    "[[entry[name]['home'] for name in entry] for entry in phone_nos]"
   ]
  },
  {
   "cell_type": "markdown",
   "metadata": {},
   "source": [
    "## Functions\n",
    "\n",
    "This aspect of Python is _incredibly_ useful! Writing your own functions can save you a TON of work - by _automating_ it.\n",
    "\n",
    "### Creating Functions\n",
    "\n",
    "The first line will read:\n",
    "\n",
    "'def' + _your function's name_ + '( )' + ':'\n",
    "\n",
    "Any arguments to the function will go in the parentheses.\n",
    "\n",
    "Let's try building a function that will automate our task of finding all the factors of 2 of a given number!"
   ]
  },
  {
   "cell_type": "code",
   "execution_count": 57,
   "metadata": {},
   "outputs": [],
   "source": [
    "# Let's code it!\n",
    "\n",
    "def factors_of_two(num):\n",
    "\n",
    "    ctr = 0\n",
    "    while num % 2 == 0:\n",
    "        ctr += 1\n",
    "        num /= 2\n",
    "\n",
    "    return ctr"
   ]
  },
  {
   "cell_type": "markdown",
   "metadata": {},
   "source": [
    "### Calling Functions\n",
    "\n",
    "To _call_ a function, simply type its name, along with any necessary arguments in parentheses."
   ]
  },
  {
   "cell_type": "code",
   "execution_count": 61,
   "metadata": {},
   "outputs": [
    {
     "data": {
      "text/plain": [
       "0"
      ]
     },
     "execution_count": 61,
     "metadata": {},
     "output_type": "execute_result"
    }
   ],
   "source": [
    "# Let's call it!\n",
    "factors_of_two(3)"
   ]
  },
  {
   "cell_type": "markdown",
   "metadata": {},
   "source": [
    "### Default Argument Values\n",
    "\n",
    "Sometimes we'll want the argument(s) of our function to have default values."
   ]
  },
  {
   "cell_type": "code",
   "execution_count": 76,
   "metadata": {},
   "outputs": [],
   "source": [
    "def cheers(person = 'tara', job = 'data scientist', age = 80):\n",
    "    return 'Hooray for ' + person + '. You\\'re a ' + job + ' and you\\'re ' + str(age) + '!'"
   ]
  },
  {
   "cell_type": "code",
   "execution_count": 75,
   "metadata": {},
   "outputs": [
    {
     "data": {
      "text/plain": [
       "\"Hooray for greg. You're a scientist and you're 80!\""
      ]
     },
     "execution_count": 75,
     "metadata": {},
     "output_type": "execute_result"
    }
   ],
   "source": [
    "cheers('greg', 'scientist', 80)"
   ]
  },
  {
   "cell_type": "code",
   "execution_count": 66,
   "metadata": {},
   "outputs": [
    {
     "data": {
      "text/plain": [
       "\"Hooray for aspen. You're a software engineer!\""
      ]
     },
     "execution_count": 66,
     "metadata": {},
     "output_type": "execute_result"
    }
   ],
   "source": [
    "cheers('aspen', 'software engineer')"
   ]
  },
  {
   "cell_type": "code",
   "execution_count": 77,
   "metadata": {},
   "outputs": [
    {
     "data": {
      "text/plain": [
       "\"Hooray for tara. You're a data scientist and you're 80!\""
      ]
     },
     "execution_count": 77,
     "metadata": {},
     "output_type": "execute_result"
    }
   ],
   "source": [
    "cheers()"
   ]
  },
  {
   "cell_type": "code",
   "execution_count": null,
   "metadata": {},
   "outputs": [],
   "source": []
  }
 ],
 "metadata": {
  "kernelspec": {
   "display_name": "Python 3",
   "language": "python",
   "name": "python3"
  },
  "language_info": {
   "codemirror_mode": {
    "name": "ipython",
    "version": 3
   },
   "file_extension": ".py",
   "mimetype": "text/x-python",
   "name": "python",
   "nbconvert_exporter": "python",
   "pygments_lexer": "ipython3",
   "version": "3.7.0"
  }
 },
 "nbformat": 4,
 "nbformat_minor": 2
}
