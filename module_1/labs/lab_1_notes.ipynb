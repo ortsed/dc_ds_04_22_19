{
 "cells": [
  {
   "cell_type": "markdown",
   "metadata": {},
   "source": [
    "# Lab number I"
   ]
  },
  {
   "cell_type": "markdown",
   "metadata": {},
   "source": [
    "### Tuple to dictionary "
   ]
  },
  {
   "cell_type": "code",
   "execution_count": null,
   "metadata": {},
   "outputs": [],
   "source": [
    "t = ((1, 'a'),(2, 'b'))\n",
    "dict((y, x) for x, y in t)"
   ]
  },
  {
   "cell_type": "markdown",
   "metadata": {},
   "source": [
    "### What is the difference among remove, pop and del\n",
    "https://stackoverflow.com/questions/11520492/difference-between-del-remove-and-pop-on-lists"
   ]
  },
  {
   "cell_type": "markdown",
   "metadata": {},
   "source": [
    "### How to use dict() to create a dictionary"
   ]
  },
  {
   "cell_type": "code",
   "execution_count": 6,
   "metadata": {},
   "outputs": [
    {
     "name": "stdout",
     "output_type": "stream",
     "text": [
      "numbers =  {'x': 5, 'y': 0}\n",
      "<class 'dict'>\n"
     ]
    }
   ],
   "source": [
    "numbers = dict(x=5, y=0)\n",
    "print('numbers = ',numbers)\n",
    "print(type(numbers))"
   ]
  },
  {
   "cell_type": "markdown",
   "metadata": {},
   "source": [
    "### Deleting keys from a dictionary "
   ]
  },
  {
   "cell_type": "code",
   "execution_count": null,
   "metadata": {},
   "outputs": [],
   "source": [
    "del exm_dict['key']"
   ]
  },
  {
   "cell_type": "code",
   "execution_count": null,
   "metadata": {},
   "outputs": [],
   "source": [
    "exm_dict.pop('key')"
   ]
  },
  {
   "cell_type": "markdown",
   "metadata": {},
   "source": [
    "### Adding elements to a dictionary"
   ]
  },
  {
   "cell_type": "code",
   "execution_count": null,
   "metadata": {},
   "outputs": [],
   "source": [
    "example_dict['key'] = 'value' # if the key exists, the value will be overwritten. If not, it will be created"
   ]
  },
  {
   "cell_type": "markdown",
   "metadata": {},
   "source": [
    "### Getting both key and value simultaneuously "
   ]
  },
  {
   "cell_type": "code",
   "execution_count": null,
   "metadata": {},
   "outputs": [],
   "source": [
    "for key, val in example_dict.items():\n",
    "    print(key, val)"
   ]
  },
  {
   "cell_type": "markdown",
   "metadata": {},
   "source": [
    "### Prime numbers"
   ]
  },
  {
   "cell_type": "code",
   "execution_count": 8,
   "metadata": {
    "collapsed": true
   },
   "outputs": [
    {
     "name": "stdout",
     "output_type": "stream",
     "text": [
      "2  is prime\n",
      "3  is prime\n",
      "5  is prime\n",
      "7  is prime\n",
      "11  is prime\n",
      "13  is prime\n",
      "17  is prime\n",
      "19  is prime\n",
      "23  is prime\n",
      "29  is prime\n",
      "31  is prime\n",
      "37  is prime\n",
      "41  is prime\n",
      "43  is prime\n",
      "47  is prime\n",
      "53  is prime\n",
      "59  is prime\n",
      "61  is prime\n",
      "67  is prime\n",
      "71  is prime\n",
      "73  is prime\n",
      "79  is prime\n",
      "83  is prime\n",
      "89  is prime\n",
      "97  is prime\n",
      "Good bye!\n"
     ]
    }
   ],
   "source": [
    "# i runs from 2 to 100 and we want to decide if i is prime or not \n",
    "i = 2\n",
    "while(i < 100):\n",
    "    # j is a divisor - if it divides i, then i is not a prime (this is the same as to say i%j = 0)\n",
    "    j = 2\n",
    "    # example for why we use i/j ? if i is 12 and j starts from 2, it's enough \n",
    "    #for me to check all the dividors up until i/j    \n",
    "    while(j <= (i/j)):\n",
    "        # notice that in python 0 defaults to False and 1 defaults to 1\n",
    "        # meaning if j is dividing i without a remainder break from current while loop\n",
    "        if not(i%j): \n",
    "            break\n",
    "        j = j + 1\n",
    "    # if we did not encounter any j dividing i then after exiting the inner while j will be bigger than i/j\n",
    "    if (j > i/j) : \n",
    "        print(i, \" is prime\")\n",
    "    i = i + 1\n",
    "\n",
    "print (\"Good bye!\")"
   ]
  }
 ],
 "metadata": {
  "kernelspec": {
   "display_name": "Python 3",
   "language": "python",
   "name": "python3"
  },
  "language_info": {
   "codemirror_mode": {
    "name": "ipython",
    "version": 3
   },
   "file_extension": ".py",
   "mimetype": "text/x-python",
   "name": "python",
   "nbconvert_exporter": "python",
   "pygments_lexer": "ipython3",
   "version": "3.7.1"
  }
 },
 "nbformat": 4,
 "nbformat_minor": 2
}
